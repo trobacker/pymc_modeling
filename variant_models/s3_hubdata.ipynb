{
 "cells": [
  {
   "cell_type": "code",
   "execution_count": 2,
   "metadata": {},
   "outputs": [
    {
     "name": "stderr",
     "output_type": "stream",
     "text": [
      "/var/folders/15/gjw1xqz91mq9q73dqlw93_780000gn/T/ipykernel_52674/3417216582.py:9: UserWarning: '(default_)region' not set; polars will try to get it from bucket\n",
      "\n",
      "Set the region manually to silence this warning.\n",
      "  oracle_dataframe = oracle_data.filter(pl.col(\"location\") == \"MA\").collect()\n"
     ]
    },
    {
     "data": {
      "text/html": [
       "<div><style>\n",
       ".dataframe > thead > tr,\n",
       ".dataframe > tbody > tr {\n",
       "  text-align: right;\n",
       "  white-space: pre-wrap;\n",
       "}\n",
       "</style>\n",
       "<small>shape: (5, 5)</small><table border=\"1\" class=\"dataframe\"><thead><tr><th>location</th><th>target_date</th><th>clade</th><th>oracle_value</th><th>nowcast_date</th></tr><tr><td>str</td><td>date</td><td>str</td><td>f64</td><td>date</td></tr></thead><tbody><tr><td>&quot;MA&quot;</td><td>2024-09-08</td><td>&quot;24A&quot;</td><td>1.0</td><td>2024-10-09</td></tr><tr><td>&quot;MA&quot;</td><td>2024-09-08</td><td>&quot;24B&quot;</td><td>0.0</td><td>2024-10-09</td></tr><tr><td>&quot;MA&quot;</td><td>2024-09-08</td><td>&quot;24C&quot;</td><td>0.0</td><td>2024-10-09</td></tr><tr><td>&quot;MA&quot;</td><td>2024-09-08</td><td>&quot;24E&quot;</td><td>0.0</td><td>2024-10-09</td></tr><tr><td>&quot;MA&quot;</td><td>2024-09-08</td><td>&quot;recombinant&quot;</td><td>0.0</td><td>2024-10-09</td></tr></tbody></table></div>"
      ],
      "text/plain": [
       "shape: (5, 5)\n",
       "┌──────────┬─────────────┬─────────────┬──────────────┬──────────────┐\n",
       "│ location ┆ target_date ┆ clade       ┆ oracle_value ┆ nowcast_date │\n",
       "│ ---      ┆ ---         ┆ ---         ┆ ---          ┆ ---          │\n",
       "│ str      ┆ date        ┆ str         ┆ f64          ┆ date         │\n",
       "╞══════════╪═════════════╪═════════════╪══════════════╪══════════════╡\n",
       "│ MA       ┆ 2024-09-08  ┆ 24A         ┆ 1.0          ┆ 2024-10-09   │\n",
       "│ MA       ┆ 2024-09-08  ┆ 24B         ┆ 0.0          ┆ 2024-10-09   │\n",
       "│ MA       ┆ 2024-09-08  ┆ 24C         ┆ 0.0          ┆ 2024-10-09   │\n",
       "│ MA       ┆ 2024-09-08  ┆ 24E         ┆ 0.0          ┆ 2024-10-09   │\n",
       "│ MA       ┆ 2024-09-08  ┆ recombinant ┆ 0.0          ┆ 2024-10-09   │\n",
       "└──────────┴─────────────┴─────────────┴──────────────┴──────────────┘"
      ]
     },
     "execution_count": 2,
     "metadata": {},
     "output_type": "execute_result"
    }
   ],
   "source": [
    "import polars as pl\n",
    "\n",
    "oracle_data = pl.scan_parquet(\n",
    "    \"s3://covid-variant-nowcast-hub/target-data/oracle-output/*/*.parquet\",\n",
    "    storage_options={\"skip_signature\": \"true\"}\n",
    ")\n",
    "\n",
    "# filter and transform as needed and collect into a dataframe, for example:\n",
    "oracle_dataframe = oracle_data.filter(pl.col(\"location\") == \"MA\").collect()\n",
    "oracle_dataframe.head()"
   ]
  },
  {
   "cell_type": "code",
   "execution_count": 3,
   "metadata": {},
   "outputs": [
    {
     "name": "stderr",
     "output_type": "stream",
     "text": [
      "/var/folders/15/gjw1xqz91mq9q73dqlw93_780000gn/T/ipykernel_52674/2167261014.py:10: DeprecationWarning: The old streaming engine is being deprecated and will soon be replaced by the new streaming engine. Starting Polars version 1.23.0 and until the new streaming engine is released, the old streaming engine may become less usable. For people who rely on the old streaming engine, it is suggested to pin your version to before 1.23.0.\n",
      "\n",
      "More information on the new streaming engine: https://github.com/pola-rs/polars/issues/20947\n",
      "  model_output = lf.collect(streaming=True)\n"
     ]
    }
   ],
   "source": [
    "import polars as pl\n",
    "\n",
    "# create a LazyFrame for model-output files\n",
    "lf = pl.scan_parquet(\n",
    "    \"s3://covid-variant-nowcast-hub/model-output/*/*.parquet\",\n",
    "    storage_options={\"skip_signature\": \"true\"}\n",
    ")\n",
    "\n",
    "# use a collect operation to materialize the LazyFrame into a DataFrame\n",
    "model_output = lf.collect(streaming=True)"
   ]
  },
  {
   "cell_type": "code",
   "execution_count": 4,
   "metadata": {},
   "outputs": [
    {
     "data": {
      "text/html": [
       "<div><style>\n",
       ".dataframe > thead > tr,\n",
       ".dataframe > tbody > tr {\n",
       "  text-align: right;\n",
       "  white-space: pre-wrap;\n",
       "}\n",
       "</style>\n",
       "<small>shape: (9, 10)</small><table border=\"1\" class=\"dataframe\"><thead><tr><th>statistic</th><th>nowcast_date</th><th>target_date</th><th>location</th><th>clade</th><th>output_type</th><th>output_type_id</th><th>value</th><th>round_id</th><th>model_id</th></tr><tr><td>str</td><td>str</td><td>str</td><td>str</td><td>str</td><td>str</td><td>str</td><td>f64</td><td>str</td><td>str</td></tr></thead><tbody><tr><td>&quot;count&quot;</td><td>&quot;66877860&quot;</td><td>&quot;66877860&quot;</td><td>&quot;66877860&quot;</td><td>&quot;66877860&quot;</td><td>&quot;66877860&quot;</td><td>&quot;66288600&quot;</td><td>6.687786e7</td><td>&quot;66877860&quot;</td><td>&quot;66877860&quot;</td></tr><tr><td>&quot;null_count&quot;</td><td>&quot;0&quot;</td><td>&quot;0&quot;</td><td>&quot;0&quot;</td><td>&quot;0&quot;</td><td>&quot;0&quot;</td><td>&quot;589260&quot;</td><td>0.0</td><td>&quot;0&quot;</td><td>&quot;0&quot;</td></tr><tr><td>&quot;mean&quot;</td><td>&quot;2024-12-21 07:42:37.627000&quot;</td><td>&quot;2024-12-10 19:42:37.627000&quot;</td><td>null</td><td>null</td><td>null</td><td>null</td><td>0.108798</td><td>null</td><td>null</td></tr><tr><td>&quot;std&quot;</td><td>null</td><td>null</td><td>null</td><td>null</td><td>null</td><td>null</td><td>0.190755</td><td>null</td><td>null</td></tr><tr><td>&quot;min&quot;</td><td>&quot;2024-10-09&quot;</td><td>&quot;2024-09-08&quot;</td><td>&quot;AK&quot;</td><td>&quot;24A&quot;</td><td>&quot;mean&quot;</td><td>&quot;AK00&quot;</td><td>0.0</td><td>&quot;2024-10-09&quot;</td><td>&quot;CADPH-CATaLog&quot;</td></tr><tr><td>&quot;25%&quot;</td><td>&quot;2024-11-20&quot;</td><td>&quot;2024-11-11&quot;</td><td>null</td><td>null</td><td>null</td><td>null</td><td>0.003446</td><td>null</td><td>null</td></tr><tr><td>&quot;50%&quot;</td><td>&quot;2024-12-25&quot;</td><td>&quot;2024-12-11&quot;</td><td>null</td><td>null</td><td>null</td><td>null</td><td>0.021906</td><td>null</td><td>null</td></tr><tr><td>&quot;75%&quot;</td><td>&quot;2025-01-22&quot;</td><td>&quot;2025-01-11&quot;</td><td>null</td><td>null</td><td>null</td><td>null</td><td>0.090286</td><td>null</td><td>null</td></tr><tr><td>&quot;max&quot;</td><td>&quot;2025-02-19&quot;</td><td>&quot;2025-03-01&quot;</td><td>&quot;WY&quot;</td><td>&quot;recombinant&quot;</td><td>&quot;sample&quot;</td><td>&quot;WY99&quot;</td><td>1.0</td><td>&quot;2025-02-19&quot;</td><td>&quot;UMass-HMLR&quot;</td></tr></tbody></table></div>"
      ],
      "text/plain": [
       "shape: (9, 10)\n",
       "┌───────────┬───────────┬───────────┬──────────┬───┬───────────┬───────────┬───────────┬───────────┐\n",
       "│ statistic ┆ nowcast_d ┆ target_da ┆ location ┆ … ┆ output_ty ┆ value     ┆ round_id  ┆ model_id  │\n",
       "│ ---       ┆ ate       ┆ te        ┆ ---      ┆   ┆ pe_id     ┆ ---       ┆ ---       ┆ ---       │\n",
       "│ str       ┆ ---       ┆ ---       ┆ str      ┆   ┆ ---       ┆ f64       ┆ str       ┆ str       │\n",
       "│           ┆ str       ┆ str       ┆          ┆   ┆ str       ┆           ┆           ┆           │\n",
       "╞═══════════╪═══════════╪═══════════╪══════════╪═══╪═══════════╪═══════════╪═══════════╪═══════════╡\n",
       "│ count     ┆ 66877860  ┆ 66877860  ┆ 66877860 ┆ … ┆ 66288600  ┆ 6.687786e ┆ 66877860  ┆ 66877860  │\n",
       "│           ┆           ┆           ┆          ┆   ┆           ┆ 7         ┆           ┆           │\n",
       "│ null_coun ┆ 0         ┆ 0         ┆ 0        ┆ … ┆ 589260    ┆ 0.0       ┆ 0         ┆ 0         │\n",
       "│ t         ┆           ┆           ┆          ┆   ┆           ┆           ┆           ┆           │\n",
       "│ mean      ┆ 2024-12-2 ┆ 2024-12-1 ┆ null     ┆ … ┆ null      ┆ 0.108798  ┆ null      ┆ null      │\n",
       "│           ┆ 1 07:42:3 ┆ 0 19:42:3 ┆          ┆   ┆           ┆           ┆           ┆           │\n",
       "│           ┆ 7.627000  ┆ 7.627000  ┆          ┆   ┆           ┆           ┆           ┆           │\n",
       "│ std       ┆ null      ┆ null      ┆ null     ┆ … ┆ null      ┆ 0.190755  ┆ null      ┆ null      │\n",
       "│ min       ┆ 2024-10-0 ┆ 2024-09-0 ┆ AK       ┆ … ┆ AK00      ┆ 0.0       ┆ 2024-10-0 ┆ CADPH-CAT │\n",
       "│           ┆ 9         ┆ 8         ┆          ┆   ┆           ┆           ┆ 9         ┆ aLog      │\n",
       "│ 25%       ┆ 2024-11-2 ┆ 2024-11-1 ┆ null     ┆ … ┆ null      ┆ 0.003446  ┆ null      ┆ null      │\n",
       "│           ┆ 0         ┆ 1         ┆          ┆   ┆           ┆           ┆           ┆           │\n",
       "│ 50%       ┆ 2024-12-2 ┆ 2024-12-1 ┆ null     ┆ … ┆ null      ┆ 0.021906  ┆ null      ┆ null      │\n",
       "│           ┆ 5         ┆ 1         ┆          ┆   ┆           ┆           ┆           ┆           │\n",
       "│ 75%       ┆ 2025-01-2 ┆ 2025-01-1 ┆ null     ┆ … ┆ null      ┆ 0.090286  ┆ null      ┆ null      │\n",
       "│           ┆ 2         ┆ 1         ┆          ┆   ┆           ┆           ┆           ┆           │\n",
       "│ max       ┆ 2025-02-1 ┆ 2025-03-0 ┆ WY       ┆ … ┆ WY99      ┆ 1.0       ┆ 2025-02-1 ┆ UMass-HML │\n",
       "│           ┆ 9         ┆ 1         ┆          ┆   ┆           ┆           ┆ 9         ┆ R         │\n",
       "└───────────┴───────────┴───────────┴──────────┴───┴───────────┴───────────┴───────────┴───────────┘"
      ]
     },
     "execution_count": 4,
     "metadata": {},
     "output_type": "execute_result"
    }
   ],
   "source": [
    "model_output.describe()"
   ]
  },
  {
   "cell_type": "code",
   "execution_count": 6,
   "metadata": {},
   "outputs": [
    {
     "data": {
      "text/plain": [
       "polars.dataframe.frame.DataFrame"
      ]
     },
     "execution_count": 6,
     "metadata": {},
     "output_type": "execute_result"
    }
   ],
   "source": [
    "type(model_output)"
   ]
  },
  {
   "cell_type": "code",
   "execution_count": 7,
   "metadata": {},
   "outputs": [
    {
     "data": {
      "text/html": [
       "<div><style>\n",
       ".dataframe > thead > tr,\n",
       ".dataframe > tbody > tr {\n",
       "  text-align: right;\n",
       "  white-space: pre-wrap;\n",
       "}\n",
       "</style>\n",
       "<small>shape: (4, 9)</small><table border=\"1\" class=\"dataframe\"><thead><tr><th>nowcast_date</th><th>target_date</th><th>location</th><th>clade</th><th>output_type</th><th>output_type_id</th><th>value</th><th>round_id</th><th>model_id</th></tr><tr><td>date</td><td>date</td><td>str</td><td>str</td><td>str</td><td>str</td><td>f64</td><td>str</td><td>str</td></tr></thead><tbody><tr><td>2024-10-30</td><td>2024-09-29</td><td>&quot;CA&quot;</td><td>&quot;24A&quot;</td><td>&quot;mean&quot;</td><td>null</td><td>0.148496</td><td>&quot;2024-10-30&quot;</td><td>&quot;CADPH-CATaLog&quot;</td></tr><tr><td>2024-10-23</td><td>2024-09-22</td><td>&quot;AL&quot;</td><td>&quot;24E&quot;</td><td>&quot;mean&quot;</td><td>null</td><td>0.0</td><td>&quot;2024-10-23&quot;</td><td>&quot;LANL-CovTransformer&quot;</td></tr><tr><td>2024-10-30</td><td>2024-09-29</td><td>&quot;AL&quot;</td><td>&quot;24A&quot;</td><td>&quot;sample&quot;</td><td>&quot;AL1&quot;</td><td>0.197177</td><td>&quot;2024-10-30&quot;</td><td>&quot;UGA-multicast&quot;</td></tr><tr><td>2024-10-09</td><td>2024-09-08</td><td>&quot;AL&quot;</td><td>&quot;24A&quot;</td><td>&quot;sample&quot;</td><td>&quot;AL00&quot;</td><td>0.008923</td><td>&quot;2024-10-09&quot;</td><td>&quot;UMass-HMLR&quot;</td></tr></tbody></table></div>"
      ],
      "text/plain": [
       "shape: (4, 9)\n",
       "┌────────────┬────────────┬──────────┬───────┬───┬────────────┬──────────┬────────────┬────────────┐\n",
       "│ nowcast_da ┆ target_dat ┆ location ┆ clade ┆ … ┆ output_typ ┆ value    ┆ round_id   ┆ model_id   │\n",
       "│ te         ┆ e          ┆ ---      ┆ ---   ┆   ┆ e_id       ┆ ---      ┆ ---        ┆ ---        │\n",
       "│ ---        ┆ ---        ┆ str      ┆ str   ┆   ┆ ---        ┆ f64      ┆ str        ┆ str        │\n",
       "│ date       ┆ date       ┆          ┆       ┆   ┆ str        ┆          ┆            ┆            │\n",
       "╞════════════╪════════════╪══════════╪═══════╪═══╪════════════╪══════════╪════════════╪════════════╡\n",
       "│ 2024-10-30 ┆ 2024-09-29 ┆ CA       ┆ 24A   ┆ … ┆ null       ┆ 0.148496 ┆ 2024-10-30 ┆ CADPH-CATa │\n",
       "│            ┆            ┆          ┆       ┆   ┆            ┆          ┆            ┆ Log        │\n",
       "│ 2024-10-23 ┆ 2024-09-22 ┆ AL       ┆ 24E   ┆ … ┆ null       ┆ 0.0      ┆ 2024-10-23 ┆ LANL-CovTr │\n",
       "│            ┆            ┆          ┆       ┆   ┆            ┆          ┆            ┆ ansformer  │\n",
       "│ 2024-10-30 ┆ 2024-09-29 ┆ AL       ┆ 24A   ┆ … ┆ AL1        ┆ 0.197177 ┆ 2024-10-30 ┆ UGA-multic │\n",
       "│            ┆            ┆          ┆       ┆   ┆            ┆          ┆            ┆ ast        │\n",
       "│ 2024-10-09 ┆ 2024-09-08 ┆ AL       ┆ 24A   ┆ … ┆ AL00       ┆ 0.008923 ┆ 2024-10-09 ┆ UMass-HMLR │\n",
       "└────────────┴────────────┴──────────┴───────┴───┴────────────┴──────────┴────────────┴────────────┘"
      ]
     },
     "execution_count": 7,
     "metadata": {},
     "output_type": "execute_result"
    }
   ],
   "source": [
    "model_output.unique(subset=[\"model_id\"], maintain_order=True)"
   ]
  },
  {
   "cell_type": "code",
   "execution_count": null,
   "metadata": {},
   "outputs": [],
   "source": []
  }
 ],
 "metadata": {
  "kernelspec": {
   "display_name": "asper_pymc",
   "language": "python",
   "name": "python3"
  },
  "language_info": {
   "codemirror_mode": {
    "name": "ipython",
    "version": 3
   },
   "file_extension": ".py",
   "mimetype": "text/x-python",
   "name": "python",
   "nbconvert_exporter": "python",
   "pygments_lexer": "ipython3",
   "version": "3.12.9"
  }
 },
 "nbformat": 4,
 "nbformat_minor": 2
}
